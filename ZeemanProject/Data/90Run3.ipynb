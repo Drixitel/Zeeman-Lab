{
 "cells": [
  {
   "cell_type": "code",
   "execution_count": 1,
   "metadata": {},
   "outputs": [],
   "source": [
    "import numpy as np\n",
    "import matplotlib.pyplot as plt \n",
    "import matplotlib.colors as colors\n",
    "\n",
    "from astropy.visualization import astropy_mpl_style\n",
    "from astropy.utils.data import get_pkg_data_filename\n",
    "from astropy.io import fits\n",
    "\n",
    "import scipy.stats as stat\n",
    "from scipy.optimize import curve_fit\n",
    "from scipy.signal import find_peaks, peak_prominences, peak_widths\n",
    "from scipy.stats import linregress\n",
    "\n",
    "import itertools\n",
    "\n",
    "import helperfile as hf\n"
   ]
  },
  {
   "cell_type": "code",
   "execution_count": 2,
   "metadata": {},
   "outputs": [
    {
     "name": "stdout",
     "output_type": "stream",
     "text": [
      "<class 'numpy.ndarray'>\n",
      "Number of trials to examine = 11.0\n",
      "Total Number of arrays = 22\n"
     ]
    }
   ],
   "source": [
    "# STEP 1: Load Data \n",
    "xy = np.loadtxt('XYR3_90_Dic.txt', dtype=int, delimiter=',')\n",
    "print(type(xy))\n",
    "print(f\"Number of trials to examine = {len(xy)/2}\\nTotal Number of arrays = {len(xy)}\")"
   ]
  },
  {
   "cell_type": "code",
   "execution_count": 3,
   "metadata": {},
   "outputs": [],
   "source": [
    "# # STEP 2: Check all graphs  \n",
    "\n",
    "# hf.MakeManyPlots(xy)"
   ]
  },
  {
   "cell_type": "code",
   "execution_count": 4,
   "metadata": {},
   "outputs": [
    {
     "name": "stdout",
     "output_type": "stream",
     "text": [
      "Data ratio set\n"
     ]
    },
    {
     "data": {
      "image/png": "[encoded data removed]",
      "text/plain": [
       "<Figure size 432x288 with 1 Axes>"
      ]
     },
     "metadata": {
      "needs_background": "light"
     },
     "output_type": "display_data"
    }
   ],
   "source": [
    "# STEP 5: TRUNCATE TO THE FIRST ORDER\n",
    "peaks1, x_1, y_1 = hf.LabelPeaks_ShrinkData(xy[0],xy[1],262,490,4000)\n",
    "peaks2, x_2, y_2 = hf.LabelPeaks_ShrinkData(xy[2],xy[3],262,490,4300)\n",
    "peaks3, x_3, y_3 = hf.LabelPeaks_ShrinkData(xy[4],xy[5],262,490,4300)\n",
    "peaks4, x_4, y_4 = hf.LabelPeaks_ShrinkData(xy[6],xy[7],262,490,4300)\n",
    "peaks5, x_5, y_5 = hf.LabelPeaks_ShrinkData(xy[8],xy[9],262,490,4300)\n",
    "peaks6, x_6, y_6 = hf.LabelPeaks_ShrinkData(xy[10],xy[11],262,490,4300)\n",
    "peaks7, x_7, y_7 = hf.LabelPeaks_ShrinkData(xy[12],xy[13],262,490,4300)\n",
    "peaks8, x_8, y_8 = hf.LabelPeaks_ShrinkData(xy[14],xy[15],262,490,4300)\n",
    "peaks9, x_9, y_9 = hf.LabelPeaks_ShrinkData(xy[16],xy[17],262,490,4300)\n",
    "peaks10, x_10, y_10 = hf.LabelPeaks_ShrinkData(xy[18],xy[19],262,490,4300)\n",
    "peaks11, x_11, y_11 = hf.LabelPeaks_ShrinkData(xy[20],xy[21],262,490,4300)\n",
    "\n",
    "\n",
    "# hf.Plots(x_1,y_1, \n",
    "#     'B = 5.900kG, Intensity Plot [510x765][9um squares]', \n",
    "#     'Bins (pixels)', 'Intensity (ADU)', \n",
    "#     # figsize0=12, figsize1=8\n",
    "#     )\n",
    "# hf.PlotNewPeaks(peaks1,xy[1])\n",
    "\n",
    "\n",
    "# hf.Plots(x_2,y_2, \n",
    "#     'B = 6.000kG, Intensity Plot [510x765][9um squares]', \n",
    "#     'Bins (pixels)', 'Intensity (ADU)', \n",
    "#     # figsize0=12, figsize1=6\n",
    "#     )\n",
    "# hf.PlotNewPeaks(peaks2,xy[3])\n",
    "\n",
    "# hf.Plots(x_3,y_3, \n",
    "#     'B = 5.000kG, Intensity Plot [510x765][9um squares]', \n",
    "#     'Bins (pixels)', 'Intensity (ADU)', \n",
    "#     # figsize0=12, figsize1=6\n",
    "#     )\n",
    "# hf.PlotNewPeaks(peaks3,xy[5])\n",
    "\n",
    "\n",
    "# hf.Plots(x_4,y_4, \n",
    "#     'B = 5.103kG, Intensity Plot [510x765][9um squares]', \n",
    "#     'Bins (pixels)', 'Intensity (ADU)', \n",
    "#     # figsize0=12, figsize1=6\n",
    "#     )\n",
    "# hf.PlotNewPeaks(peaks4,xy[7])\n",
    "\n",
    "\n",
    "# hf.Plots(x_5,y_5, \n",
    "#     'B = 5.203kG, Intensity Plot [510x765][9um squares]', \n",
    "#     'Bins (pixels)', 'Intensity (ADU)', \n",
    "#     # figsize0=12, figsize1=6\n",
    "#     )\n",
    "# hf.PlotNewPeaks(peaks5,xy[9])\n",
    "\n",
    "# hf.Plots(x_6,y_6, \n",
    "#     'B = 5.299kG, Intensity Plot [510x765][9um squares]', \n",
    "#     'Bins (pixels)', 'Intensity (ADU)', \n",
    "#     # figsize0=12, figsize1=6\n",
    "#     )\n",
    "# hf.PlotNewPeaks(peaks6,xy[11])\n",
    "\n",
    "# hf.Plots(x_7,y_7, \n",
    "#     'B = 5.400kG, Intensity Plot [510x765][9um squares]', \n",
    "#     'Bins (pixels)', 'Intensity (ADU)', \n",
    "#     # figsize0=12, figsize1=6\n",
    "#     )\n",
    "# hf.PlotNewPeaks(peaks7,xy[13])\n",
    "\n",
    "# hf.Plots(x_8,y_8, \n",
    "#     'B = 5.500kG, Intensity Plot [510x765][9um squares]', \n",
    "#     'Bins (pixels)', 'Intensity (ADU)', \n",
    "#     # figsize0=12, figsize1=6\n",
    "#     )\n",
    "# hf.PlotNewPeaks(peaks8,xy[15])\n",
    "\n",
    "# hf.Plots(x_9,y_9, \n",
    "#     'B = 5.600kG, Intensity Plot [510x765][9um squares]', \n",
    "#     'Bins (pixels)', 'Intensity (ADU)', \n",
    "#     # figsize0=12, figsize1=6\n",
    "#     )\n",
    "# hf.PlotNewPeaks(peaks9,xy[17])\n",
    "\n",
    "# hf.Plots(x_10,y_10, \n",
    "#     'B = 5.700kG, Intensity Plot [510x765][9um squares]', \n",
    "#     'Bins (pixels)', 'Intensity (ADU)', \n",
    "#     # figsize0=12, figsize1=6\n",
    "#     )\n",
    "# hf.PlotNewPeaks(peaks10,xy[19])\n",
    "\n",
    "hf.Plots(x_11,y_11, \n",
    "    'B = 5.800kG, Intensity Plot [510x765][9umx9um]', \n",
    "    'Bins (765 Pixels x 9 um) ', 'Intensity (ADU)', \n",
    "    # figsize0=12, figsize1=6\n",
    "    )\n",
    "hf.PlotNewPeaks(peaks11,xy[21])\n",
    "hf.SaveFigure(\"Graphs/PiExampleIntensity.png\")\n"
   ]
  },
  {
   "cell_type": "code",
   "execution_count": 5,
   "metadata": {},
   "outputs": [],
   "source": [
    "# STEP 6: CREATE RADIUS ARRAY \n",
    "B1 = 5.900E3 #Gauss\n",
    "R1_1 = hf.RadiusMeter(peaks1[0], peaks1[-1])\n",
    "# R1_2 = hf.RadiusMeter(peaks1[1], peaks1[-2])\n",
    "R1_3 = hf.RadiusMeter(peaks1[2], peaks1[-4])\n",
    "\n",
    "B2 = 6.00E3\n",
    "R2_1 = hf.RadiusMeter(peaks2[0], peaks2[-1])\n",
    "# R2_2 = hf.RadiusMeter(peaks2[1], peaks2[-2])\n",
    "R2_3 = hf.RadiusMeter(peaks2[2], peaks2[-3])\n",
    "\n",
    "B3 = 5.00E3\n",
    "R3_1 = hf.RadiusMeter(peaks3[0], peaks3[-1])\n",
    "# R3_2 = hf.RadiusMeter(peaks3[1], peaks3[-2])\n",
    "R3_3 = hf.RadiusMeter(peaks3[3], peaks3[-4])\n",
    "\n",
    "B4 = 5.103E3\n",
    "R4_1 = hf.RadiusMeter(peaks4[0], peaks4[-1])\n",
    "# R4_2 = hf.RadiusMeter(peaks4[1], peaks4[-2])\n",
    "R4_3 = hf.RadiusMeter(peaks4[3], peaks4[-4])\n",
    "\n",
    "B5 = 5.203E3\n",
    "R5_1 = hf.RadiusMeter(peaks5[0], peaks5[-1])\n",
    "# R5_2 = hf.RadiusMeter(peaks5[1], peaks5[-2])\n",
    "R5_3 = hf.RadiusMeter(peaks5[3], peaks5[-4])\n",
    "\n",
    "B6 = 5.299E3\n",
    "R6_1 = hf.RadiusMeter(peaks6[0], peaks6[-1])\n",
    "# R6_2 = hf.RadiusMeter(peaks6[1], peaks6[-2])\n",
    "R6_3 = hf.RadiusMeter(peaks6[3], peaks6[-4])\n",
    "\n",
    "B7 = 5.400E3\n",
    "R7_1 = hf.RadiusMeter(peaks7[0], peaks7[-1])\n",
    "# R7_2 = hf.RadiusMeter(peaks7[1], peaks7[-2])\n",
    "R7_3 = hf.RadiusMeter(peaks7[3], peaks7[-4])\n",
    "\n",
    "B8 = 5.500E3\n",
    "R8_1 = hf.RadiusMeter(peaks8[0], peaks8[-1])\n",
    "# R8_2 = hf.RadiusMeter(peaks8[1], peaks8[-2])\n",
    "R8_3 = hf.RadiusMeter(peaks8[3], peaks8[-4])\n",
    "\n",
    "B9 = 5.600E3\n",
    "R9_1 = hf.RadiusMeter(peaks9[0], peaks9[-1])\n",
    "# R9_2 = hf.RadiusMeter(peaks9[1], peaks9[-2])\n",
    "R9_3 = hf.RadiusMeter(peaks9[3], peaks9[-4])\n",
    "\n",
    "B10 = 5.700E3\n",
    "R10_1 = hf.RadiusMeter(peaks10[0], peaks10[-1])\n",
    "# R10_2 = hf.RadiusMeter(peaks10[1], peaks10[-2])\n",
    "R10_3 = hf.RadiusMeter(peaks10[3], peaks10[-4])\n",
    "\n",
    "B11 = 5.800E3\n",
    "R11_1 = hf.RadiusMeter(peaks11[0], peaks11[-1])\n",
    "# R11_2 = hf.RadiusMeter(peaks11[1], peaks11[-2])\n",
    "R11_3 = hf.RadiusMeter(peaks11[2], peaks11[-4])\n",
    "\n",
    "radii = [\n",
    "    R1_1, R1_3,\n",
    "    R2_1, R2_3,\n",
    "    R3_1, R3_3,\n",
    "    R4_1, R4_3,\n",
    "    R5_1, R5_3,\n",
    "    R6_1, R6_3,\n",
    "    R7_1, R7_3,\n",
    "    R8_1, R8_3,\n",
    "    R9_1, R9_3,\n",
    "    R10_1, R10_3,\n",
    "    R11_1, R11_3,\n",
    "]\n",
    "\n",
    "\n",
    "B = [\n",
    "    B1,\n",
    "    B2,\n",
    "    B3,\n",
    "    B4,\n",
    "    B5,\n",
    "    B6,\n",
    "    B7,\n",
    "    B8,\n",
    "    B9,\n",
    "    B10,\n",
    "    B11,\n",
    "]\n",
    "\n",
    "B = np.array(B)"
   ]
  },
  {
   "cell_type": "code",
   "execution_count": 6,
   "metadata": {},
   "outputs": [],
   "source": [
    "# STEP 7: CREATE THETA ARRAYS \n",
    "thetas = hf.ThetasRadArray(radii)\n",
    "\n",
    "#saved as txt to use in Error prop File to return Yerr \n",
    "np.savetxt(\"Run3Thetas90.txt\", thetas, delimiter =\", \")"
   ]
  },
  {
   "cell_type": "code",
   "execution_count": 7,
   "metadata": {},
   "outputs": [],
   "source": [
    "# STEP 8: CREATE DELTA E ARRAYS \n",
    "delE_90 = hf.DeltaEPrime(thetas)"
   ]
  },
  {
   "cell_type": "code",
   "execution_count": 8,
   "metadata": {},
   "outputs": [],
   "source": [
    "# STEP 9: INITIAL PLOT \n",
    "\n",
    "# plt.scatter(B,delE_90)"
   ]
  },
  {
   "cell_type": "code",
   "execution_count": 9,
   "metadata": {},
   "outputs": [],
   "source": [
    "# STEP 10: CREATE FIT FUNCTION \n",
    "# E = A*MU_0*B - TWO UNKNOWNS\n",
    "# E = 0.5*MU_0B - A KNOWN \n",
    "# E = A*MU*B - MU_0 KNOWN \n",
    "\n",
    "# # TWO UNKNOWNS \n",
    "# def DelE1(B,mu_0,a):\n",
    "#     mu = 9.2741E-21 # erg/G\n",
    "#     A = 1\n",
    "#     return a*mu_0*B\n",
    "\n",
    "# p01 = [9.3E-21, 1.2]\n",
    "\n",
    "# A KNOWN\n",
    "def DelE2(B,mu_0, c):\n",
    "    mu = 9.2741E-21 # erg/G\n",
    "    A = 1\n",
    "    return A* mu_0* B + c\n",
    "\n",
    "\n",
    "p02 = [9.3E-21, 0E-21]\n",
    "\n",
    "# # MU KNOWN\n",
    "# def DelE3(B,a):\n",
    "#     mu = 9.2741E-21 # erg/G\n",
    "#     A = 1\n",
    "#     return a*mu*B\n",
    "\n",
    "# p03 = [1.2]"
   ]
  },
  {
   "cell_type": "code",
   "execution_count": 10,
   "metadata": {},
   "outputs": [],
   "source": [
    "# STEP 11: LOAD ERROR FROM Error90.ipynb \n",
    "# AND ASSIGN B ERROR \n",
    "\n",
    "sigmaE = np.loadtxt('Run3Eerr90.txt', delimiter=',')\n",
    "\n",
    "\n",
    "\n",
    "\n",
    "# CREATE SAME SIZE ARRAY\n",
    "Barr = np.ones(len(B))\n",
    "# ERROR\n",
    "sigmaB = 0.05E3 # Gauss \n",
    "Berr = sigmaB*Barr"
   ]
  },
  {
   "cell_type": "code",
   "execution_count": 11,
   "metadata": {},
   "outputs": [
    {
     "name": "stdout",
     "output_type": "stream",
     "text": [
      "\n",
      "A = 1 Known, fit mu_0 : 9.2741E-21\n",
      "\t & some intercept value\n",
      "param  0  =  8.978194502812594e-21 +/- 1.350610386156023e-21\n",
      "param  1  =  -1.5955660909302307e-18 +/- 7.443037878042974e-18\n"
     ]
    }
   ],
   "source": [
    "# STEP 12: APPLY FIT\n",
    "\n",
    "# # TWO UNKNOWNS \n",
    "# popt1, pcov1 = curve_fit( \n",
    "#                     DelE1,\n",
    "#                     B,\n",
    "#                     delE_90,\n",
    "#                     p0= p01, \n",
    "#                     absolute_sigma=True,\n",
    "#                     sigma=sigmaE\n",
    "#                     )\n",
    "\n",
    "# for i in range(0,len(popt1)):\n",
    "#     print('param ',i,' = ',popt1[i], '+/-', np.sqrt(pcov1[i,i]))\n",
    "\n",
    "# A KNOWN\n",
    "print('\\nA = 1 Known, fit mu_0 : 9.2741E-21\\n\\t & some intercept value')\n",
    "popt2, pcov2 = curve_fit( \n",
    "                    DelE2,\n",
    "                    B,\n",
    "                    delE_90,\n",
    "                    p0= p02, \n",
    "                    absolute_sigma=True,\n",
    "                    sigma=sigmaE\n",
    "                    )\n",
    "\n",
    "for i in range(0,len(popt2)):\n",
    "    print('param ',i,' = ',popt2[i], '+/-', np.sqrt(pcov2[i,i]))\n",
    "\n",
    "# # MU KNOWN\n",
    "# print('\\nmu_0 = 9.2741E-21, fit A : Assuming A = 1')\n",
    "# popt3, pcov3 = curve_fit( \n",
    "#                     DelE3,\n",
    "#                     B,\n",
    "#                     delE_90,\n",
    "#                     p0= p03, \n",
    "#                     absolute_sigma=True,\n",
    "#                     sigma=sigmaE\n",
    "#                     )\n",
    "\n",
    "# for i in range(0,len(popt3)):\n",
    "#     print('param ',i,' = ',popt3[i], '+/-', np.sqrt(pcov3[i,i]))"
   ]
  },
  {
   "cell_type": "code",
   "execution_count": 12,
   "metadata": {},
   "outputs": [],
   "source": [
    "# # PLOT1\n",
    "\n",
    "# #style\n",
    "# hfont = {'fontname':'Consolas'}\n",
    "# plt.figure()\n",
    "# plt.style.use('bmh')\n",
    "\n",
    "\n",
    "# # Better looking line\n",
    "# B_line = np.linspace(min(B), max(B), 1000)\n",
    "# fit1 = DelE1(B, *popt1)\n",
    "\n",
    "# #data\n",
    "# plt.plot(B, fit1, label = 'Fit: mu_0= %1.3e erg/G A= %1.3f' % tuple(popt1), color = 'red')\n",
    "\n",
    "# plt.errorbar(\n",
    "#     B, \n",
    "#     delE_90, \n",
    "#     yerr= sigmaE,\n",
    "#     # xerr= Berr, \n",
    "#     fmt='o', \n",
    "#     label = 'Data', \n",
    "#     color='black',\n",
    "#     alpha =0.5\n",
    "#     )\n",
    "\n",
    "# #labels\n",
    "# plt.title(\"Delta E vs. Magnetic Field B [Pi]\", **hfont)\n",
    "# plt.xlabel('Magnetic Field B (Gaus)', **hfont)\n",
    "# plt.ylabel('Energy Shift (erg)', **hfont)\n",
    "# plt.legend(loc=2)\n",
    "\n",
    "# print(popt1)\n",
    "\n",
    "# # hf.SaveFigure(\"PiDelEvsB90Run3_1.png\")"
   ]
  },
  {
   "cell_type": "code",
   "execution_count": 13,
   "metadata": {},
   "outputs": [
    {
     "name": "stdout",
     "output_type": "stream",
     "text": [
      "[ 8.97819450e-21 -1.59556609e-18]\n"
     ]
    },
    {
     "data": {
      "image/png": "[encoded data removed]",
      "text/plain": [
       "<Figure size 432x288 with 1 Axes>"
      ]
     },
     "metadata": {
      "needs_background": "light"
     },
     "output_type": "display_data"
    }
   ],
   "source": [
    "# PLOT2\n",
    "\n",
    "#style\n",
    "hfont = {'fontname':'Consolas'}\n",
    "plt.figure()\n",
    "plt.style.use('bmh')\n",
    "\n",
    "\n",
    "# Better looking line\n",
    "B_line = np.linspace(min(B), max(B), 1000)\n",
    "fit2 = DelE2(B, *popt2)\n",
    "\n",
    "#data\n",
    "plt.plot(B, \n",
    "        fit2, \n",
    "        label = 'Fit: mu_0= %1.3e erg/G Fixed A = 1' % popt2[0], \n",
    "        color = 'b')\n",
    "\n",
    "plt.errorbar(\n",
    "    B, \n",
    "    delE_90, \n",
    "    yerr= sigmaE,\n",
    "    # xerr= Berr, \n",
    "    fmt='o', \n",
    "    label = 'Data', \n",
    "    color='black',\n",
    "    alpha =0.5\n",
    "    )\n",
    "\n",
    "#labels\n",
    "plt.title(\"$\\\\Delta E_i$  vs. Magnetic Field $B_{ext}$ [Pi]\", **hfont)\n",
    "plt.xlabel('Magnetic Field $B_{ext}$ (Gauss)', **hfont)\n",
    "plt.ylabel(\"Energy Shift $\\\\Delta E_i$  (erg)\", **hfont)\n",
    "plt.legend(loc=2)\n",
    "\n",
    "print(popt2)\n",
    "\n",
    "hf.SaveFigure(\"Graphs/PiFitDelEvsB.png\")"
   ]
  },
  {
   "cell_type": "code",
   "execution_count": 14,
   "metadata": {},
   "outputs": [],
   "source": [
    "# # PLOT3\n",
    "\n",
    "# #style\n",
    "# hfont = {'fontname':'Consolas'}\n",
    "# plt.figure()\n",
    "# plt.style.use('bmh')\n",
    "\n",
    "\n",
    "# # Better looking line\n",
    "# B_line = np.linspace(min(B), max(B), 1000)\n",
    "# fit3 = DelE3(B, *popt3)\n",
    "\n",
    "# #data\n",
    "# plt.plot(B, fit3, label = 'Fit: A= %1.3f' % tuple(popt3), color = 'b')\n",
    "\n",
    "# plt.errorbar(\n",
    "#     B, \n",
    "#     delE_90, \n",
    "#     yerr= sigmaE,\n",
    "#     # xerr= Berr, \n",
    "#     fmt='o', \n",
    "#     label = 'Data', \n",
    "#     color='black',\n",
    "#     alpha =0.5\n",
    "#     )\n",
    "\n",
    "# #labels\n",
    "# plt.title(\"Delta E vs. Magnetic Field B [Pi]\", **hfont)\n",
    "# plt.xlabel('Magnetic Field B (Gaus)', **hfont)\n",
    "# plt.ylabel('Energy Shift (erg)', **hfont)\n",
    "# plt.legend(loc=2)\n",
    "\n",
    "# print(popt3)\n",
    "\n",
    "# # hf.SaveFigure(\"PiDelEvsB90Run3_3.png\")"
   ]
  },
  {
   "cell_type": "code",
   "execution_count": 15,
   "metadata": {},
   "outputs": [
    {
     "name": "stdout",
     "output_type": "stream",
     "text": [
      "Fit: mu_0, A = 1\n",
      "Chi-square:  2.8184270991397633\n",
      "Degrees of freedom:  9\n",
      "Reduced chi-square:  0.3131585665710848\n",
      "CDF:  0.028939418176031333\n",
      "p-test value (1 Tail bc not symmetric):  0.9710605818239687\n"
     ]
    }
   ],
   "source": [
    "# this is with the constraint of A = 1/2\n",
    "# print('Fit: mu_0 and A')\n",
    "# hf.Chi2Values(DelE1,B,delE_90,popt1,sigmaE)\n",
    "\n",
    "# print('\\n\\n')\n",
    "print('Fit: mu_0, A = 1')\n",
    "hf.Chi2Values(DelE2,B,delE_90,popt2,sigmaE) # not significant \n",
    "\n",
    "# print('\\n\\n')\n",
    "# print('Fit: A, mu_0 = 9.2741E-21')\n",
    "# hf.Chi2Values(DelE3,B,delE_90,popt3,sigmaE)\n",
    "z = .02 "
   ]
  },
  {
   "cell_type": "code",
   "execution_count": 16,
   "metadata": {},
   "outputs": [
    {
     "name": "stdout",
     "output_type": "stream",
     "text": [
      "True: 9.2741e-21\n",
      "Fit: 8.978195e-21\n",
      "Percent error:\n",
      "3.1906653711670723\n"
     ]
    }
   ],
   "source": [
    "# Error Values:\n",
    "mu_0 = 9.2741E-21\n",
    "print(f'True: {mu_0}')\n",
    "print(f'Fit: {popt2[0]:4e}')\n",
    "print('Percent error:')\n",
    "percentage_error = (np.abs(mu_0-popt2[0])/mu_0)*100\n",
    "print(percentage_error)"
   ]
  },
  {
   "cell_type": "markdown",
   "metadata": {},
   "source": [
    "# Calculate $\\mu_{0avg}$ \n",
    "- Use values $\\Delta E_i$ and $B_i$\n",
    "- Propagate thier respective errors "
   ]
  },
  {
   "cell_type": "code",
   "execution_count": 17,
   "metadata": {},
   "outputs": [],
   "source": [
    "# Error in mu from Propagation of delE and B \n",
    "\n",
    "def SigMu(sigDelE, SigB, delE, B, A):\n",
    "    ''' Take Delta E and B arrays with thier respective error\n",
    "        Return error of mu_0 via error propagation'''\n",
    "    t1 = 1/(A*B)\n",
    "    term1 = t1**2*sigDelE**2\n",
    "\n",
    "    t2 = delE/(A*B**2)\n",
    "    term2 = t2**2*SigB**2\n",
    "\n",
    "    var_mu = term1 +term2\n",
    "    sig_mu = np.sqrt(var_mu)\n",
    "\n",
    "    return sig_mu\n",
    "\n",
    "def MuWeighAv_Varmu(mu_i, var_mu): \n",
    "    '''Take mu_0 and its variance \n",
    "        Return the weighted average of mu_0 and it's error'''\n",
    "    t1 = mu_i/var_mu\n",
    "    sum1 = np.sum(t1)\n",
    "\n",
    "    t2 = 1/var_mu\n",
    "    sum2 = np.sum(t2)\n",
    "    t3 = 1/sum2\n",
    "\n",
    "    mu_av = sum1*t3\n",
    "    return mu_av, t3"
   ]
  },
  {
   "cell_type": "code",
   "execution_count": 18,
   "metadata": {},
   "outputs": [
    {
     "name": "stdout",
     "output_type": "stream",
     "text": [
      "True Value: \n",
      "9.2741e-21\n",
      "\n",
      "Propagation of del E and B into Mu_0Avg:\n",
      "8.688854812822136e-21 8.091438379143617e-23\n",
      "\n",
      "Percent error:\n",
      "6.310533498429647\n",
      "\n",
      "curvefit values:\n",
      "8.978194502812594e-21 +/- 1.263157191694775e-09\n",
      "\n",
      "Percent error:\n",
      "3.1906653711670723\n"
     ]
    }
   ],
   "source": [
    "# Calculate Mu_0\n",
    "mu_i = delE_90/(1*B)\n",
    "# np.savetxt(\"Mu1.txt\", mu_i, delimiter =\", \")\n",
    "\n",
    "\n",
    "# Calcualte the error and Variance \n",
    "sig_mu90 = SigMu(sigmaE,Berr,delE_90,B,1)\n",
    "var_mu90 = sig_mu90**2\n",
    "# np.savetxt(\"VarMu1.txt\", var_mu90, delimiter =\", \")\n",
    "\n",
    "\n",
    "# Calculate the weighted average \n",
    "mu_av, var_mu= MuWeighAv_Varmu(mu_i, var_mu90)\n",
    "\n",
    "#Value and Error from the fit values \n",
    "m = np.abs(popt2[1])\n",
    "n = np.sqrt(m)\n",
    "\n",
    "\n",
    "print('True Value: ')\n",
    "print(9.2741E-21)\n",
    "print('\\nPropagation of del E and B into Mu_0Avg:')\n",
    "print(mu_av, np.sqrt(var_mu))\n",
    "\n",
    "print('\\nPercent error:')\n",
    "percentage_error = (np.abs(9.2741E-21-mu_av)/9.2741E-21)*100\n",
    "print(percentage_error)\n",
    "\n",
    "print('\\ncurvefit values:')\n",
    "print(f'{popt2[0]} +/- {n}')\n",
    "\n",
    "print('\\nPercent error:')\n",
    "percentage_error = (np.abs(9.2741E-21-popt2[0])/9.2741E-21)*100\n",
    "print(percentage_error)"
   ]
  },
  {
   "cell_type": "code",
   "execution_count": 19,
   "metadata": {},
   "outputs": [
    {
     "ename": "ModuleNotFoundError",
     "evalue": "No module named 'pandas'",
     "output_type": "error",
     "traceback": [
      "\u001b[1;31m---------------------------------------------------------------------------\u001b[0m",
      "\u001b[1;31mModuleNotFoundError\u001b[0m                       Traceback (most recent call last)",
      "\u001b[1;32mc:\\Users\\mpmun\\CodeMain2022\\CodePractice\\Zeeman\\ZeemanProject\\Data\\90Run3.ipynb Cell 20'\u001b[0m in \u001b[0;36m<cell line: 2>\u001b[1;34m()\u001b[0m\n\u001b[0;32m      <a href='vscode-notebook-cell:/c%3A/Users/mpmun/CodeMain2022/CodePractice/Zeeman/ZeemanProject/Data/90Run3.ipynb#ch0000019?line=0'>1</a>\u001b[0m \u001b[39m# Convert to data frame to include in report \u001b[39;00m\n\u001b[1;32m----> <a href='vscode-notebook-cell:/c%3A/Users/mpmun/CodeMain2022/CodePractice/Zeeman/ZeemanProject/Data/90Run3.ipynb#ch0000019?line=1'>2</a>\u001b[0m \u001b[39mimport\u001b[39;00m \u001b[39mpandas\u001b[39;00m \u001b[39mas\u001b[39;00m \u001b[39mpd\u001b[39;00m \n\u001b[0;32m      <a href='vscode-notebook-cell:/c%3A/Users/mpmun/CodeMain2022/CodePractice/Zeeman/ZeemanProject/Data/90Run3.ipynb#ch0000019?line=3'>4</a>\u001b[0m \u001b[39m#Export delta E, B, and Mu_0 values\u001b[39;00m\n\u001b[0;32m      <a href='vscode-notebook-cell:/c%3A/Users/mpmun/CodeMain2022/CodePractice/Zeeman/ZeemanProject/Data/90Run3.ipynb#ch0000019?line=4'>5</a>\u001b[0m df \u001b[39m=\u001b[39m pd\u001b[39m.\u001b[39mDataFrame({\u001b[39m'\u001b[39m\u001b[39mDeltaE\u001b[39m\u001b[39m'\u001b[39m: delE_90, \u001b[39m'\u001b[39m\u001b[39mB\u001b[39m\u001b[39m'\u001b[39m: B})\n",
      "\u001b[1;31mModuleNotFoundError\u001b[0m: No module named 'pandas'"
     ]
    }
   ],
   "source": [
    "# Convert to data frame to include in report \n",
    "import pandas as pd \n",
    "\n",
    "#Export delta E, B, and Mu_0 values\n",
    "df = pd.DataFrame({'DeltaE': delE_90, 'B': B})\n",
    "df.to_csv('CSVFiles/EB90.csv', index = False)\n",
    "\n",
    "df = pd.DataFrame({'mu': mu_i, 'sigmu': sig_mu90})\n",
    "df.to_csv('CSVFiles/mu90.csv', index = False)"
   ]
  }
 ],
 "metadata": {
  "kernelspec": {
   "display_name": "Python 3.9.0 ('.venv': poetry)",
   "language": "python",
   "name": "python3"
  },
  "language_info": {
   "codemirror_mode": {
    "name": "ipython",
    "version": 3
   },
   "file_extension": ".py",
   "mimetype": "text/x-python",
   "name": "python",
   "nbconvert_exporter": "python",
   "pygments_lexer": "ipython3",
   "version": "3.9.0"
  },
  "orig_nbformat": 4,
  "vscode": {
   "interpreter": {
    "hash": "5e8c2d04d17044296ac4fa21d6c4ce30140d5734804abc784fcbd8e73dbb9ade"
   }
  }
 },
 "nbformat": 4,
 "nbformat_minor": 2
}

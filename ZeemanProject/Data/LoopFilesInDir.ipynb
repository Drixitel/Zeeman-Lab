{
 "cells": [
  {
   "cell_type": "code",
   "execution_count": 1,
   "metadata": {},
   "outputs": [],
   "source": [
    "import os \n",
    "import numpy as np \n",
    "import itertools\n",
    "import matplotlib.pyplot as plt\n",
    "import helperfile as hf"
   ]
  },
  {
   "cell_type": "code",
   "execution_count": 2,
   "metadata": {},
   "outputs": [],
   "source": [
    "#Must be in the directry that holds files in a subdirectory"
   ]
  },
  {
   "cell_type": "code",
   "execution_count": 8,
   "metadata": {},
   "outputs": [
    {
     "name": "stdout",
     "output_type": "stream",
     "text": [
      "22\n",
      "20\n"
     ]
    }
   ],
   "source": [
    "#Run3 Files \n",
    "\n",
    "folder_to_view = 'AllDataFiles/Run3/90'\n",
    "# print(os.listdir(folder_to_view))\n",
    "\n",
    "# 0,1: 10_5900B.txt\n",
    "# 2,3: 11_6000B.txt\n",
    "# 4,5: 1_5008B.txt\n",
    "# 6,7: 2_5103B.txt\n",
    "# 8,9: 3_5203B.txt\n",
    "# 10,11: 4_5299B.txt\n",
    "# 12,13: 5_5400B.txt\n",
    "# 14,15: 6_5500B.txt\n",
    "# 16,17: 7_5600B.txt\n",
    "# 18,19: 8_5700B.txt\n",
    "# 20,21: 9_5800B.txt\n",
    "\n",
    "\n",
    "\n",
    "xy_dirRun3_90 = []\n",
    "\n",
    "for file in os.listdir(folder_to_view): \n",
    "    if file.endswith(\".txt\"): \n",
    "        # print(file)\n",
    "        x90 =[]\n",
    "        y90 = []\n",
    "\n",
    "        with open(f'{folder_to_view}/{file}') as f: \n",
    "            for line in itertools.islice(f,4,None):\n",
    "                line = line.split()\n",
    "                x90.append(int(line[0]))\n",
    "                y90.append(int(line[1]))\n",
    "\n",
    "        xy_dirRun3_90.append(x90)\n",
    "        xy_dirRun3_90.append(y90)\n",
    "\n",
    "\n",
    "print(len(xy_dirRun3_90))\n",
    "\n",
    "\n",
    "folder_to_view = 'AllDataFiles/Run3/180'\n",
    "# print(os.listdir(folder_to_view))\n",
    "\n",
    "# 0,1: 10_1501B.txt\n",
    "# 2,3: 1_0601B.txt\n",
    "# 4,5: 2_0701B.txt\n",
    "# 6,7: 3_0801B.txt\n",
    "# 8,9: 4_0901B.txt\n",
    "# 10,11: 5_1001B.txt\n",
    "# 12,13: 6_1101B.txt\n",
    "# 14,15: 7_1201B.txt\n",
    "# 16,17: 8_1301B.txt\n",
    "# 18,19: 9_1401B.txt\n",
    "\n",
    "\n",
    "\n",
    "xy_dirRun3_180 = []\n",
    "\n",
    "for file in os.listdir(folder_to_view): \n",
    "    if file.endswith(\".txt\"): \n",
    "        # print(file)\n",
    "        x180 =[]\n",
    "        y180 = []\n",
    "        # print(file)\n",
    "        with open(f'{folder_to_view}/{file}') as f: \n",
    "            for line in itertools.islice(f,4,None):\n",
    "                # print(line)\n",
    "                line = line.split()\n",
    "                x180.append(int(line[0]))\n",
    "                y180.append(int(line[1]))\n",
    "\n",
    "        xy_dirRun3_180.append(x180)\n",
    "        xy_dirRun3_180.append(y180)\n",
    "\n",
    "\n",
    "print(len(xy_dirRun3_180))\n",
    "\n",
    "xy_dirRun3_90 = np.array(xy_dirRun3_90, dtype=int)\n",
    "xy_dirRun3_180 = np.array(xy_dirRun3_180, dtype=int)\n",
    "\n",
    "np.savetxt(\"XYR3_90_Dic.txt\", xy_dirRun3_90, delimiter =\", \", fmt=\"%i\")\n",
    "np.savetxt(\"XYR3_180_Dic.txt\", xy_dirRun3_180, delimiter =\", \", fmt=\"%i\")\n"
   ]
  },
  {
   "cell_type": "code",
   "execution_count": 9,
   "metadata": {},
   "outputs": [
    {
     "name": "stdout",
     "output_type": "stream",
     "text": [
      "4\n"
     ]
    }
   ],
   "source": [
    "#Zero B Field \n",
    "\n",
    "folder_to_view = 'AllDataFiles'\n",
    "# print(os.listdir(folder_to_view))\n",
    "\n",
    "\n",
    "\n",
    "xy_dirZeroB = []\n",
    "\n",
    "for file in os.listdir(folder_to_view): \n",
    "    if file.endswith(\".txt\"): \n",
    "        # print(file)\n",
    "        x =[]\n",
    "        y = []\n",
    "\n",
    "        with open(f'{folder_to_view}/{file}') as f: \n",
    "            for line in itertools.islice(f,4,None):\n",
    "                line = line.split()\n",
    "                x.append(int(line[0]))\n",
    "                y.append(int(line[1]))\n",
    "\n",
    "        xy_dirZeroB.append(x)\n",
    "        xy_dirZeroB.append(y)\n",
    "\n",
    "xy_dirZeroB = np.array(xy_dirZeroB, dtype=int)\n",
    "np.savetxt(\"XY_ZeroB_Dic.txt\", xy_dirZeroB, delimiter =\", \", fmt=\"%i\")\n",
    "\n",
    "print(len(xy_dirZeroB))"
   ]
  }
 ],
 "metadata": {
  "interpreter": {
   "hash": "15236136143f690ab629bc2239af74481c62e7c87c1783d150f8875ecab5fde5"
  },
  "kernelspec": {
   "display_name": "Python 3.9.0 ('.venv': poetry)",
   "language": "python",
   "name": "python3"
  },
  "language_info": {
   "codemirror_mode": {
    "name": "ipython",
    "version": 3
   },
   "file_extension": ".py",
   "mimetype": "text/x-python",
   "name": "python",
   "nbconvert_exporter": "python",
   "pygments_lexer": "ipython3",
   "version": "3.9.0"
  },
  "orig_nbformat": 4
 },
 "nbformat": 4,
 "nbformat_minor": 2
}

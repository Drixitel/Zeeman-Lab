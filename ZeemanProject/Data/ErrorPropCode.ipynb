{
 "cells": [
  {
   "cell_type": "code",
   "execution_count": 1,
   "metadata": {},
   "outputs": [],
   "source": [
    "import numpy as np"
   ]
  },
  {
   "cell_type": "code",
   "execution_count": 2,
   "metadata": {},
   "outputs": [],
   "source": [
    "# FOLLOWS - FILE: MarkdownError.md\n",
    "# Run3 Error in peak locations \n",
    "# Whole data set has wide peaks we will use +/- (width/2) for all peaks \n",
    "# 11 graphs each give (xf, xi)"
   ]
  },
  {
   "cell_type": "code",
   "execution_count": 3,
   "metadata": {},
   "outputs": [
    {
     "name": "stdout",
     "output_type": "stream",
     "text": [
      "Sigma x = 9e-06 m\n",
      "Sigma D = 1.2727922061357856e-05 m\n",
      "Sigma R = 6.363961030678928e-06 m\n",
      "Sigma theta (unitless)= 4.714045207910316e-05\n",
      "Sigma B (Gaus)= 50.0\n"
     ]
    }
   ],
   "source": [
    "# EACH DATA SET WILL HAVE A GENERALILZED ERROR - NOT GREAT PRACITCE. BUT SHORT NOTICE\n",
    "\n",
    "# ERROR IN MEASUREMENT OF PEAK \n",
    "sigma_xf_pixel = 2/2 #width/2\n",
    "sigma_xf_meter = (2/2)*9*(10)**(-6) #Pixel x 9um x 10E-6= meter\n",
    "\n",
    "sigma_xi_pixel = 2/2\n",
    "sigma_xi_meter = (2/2)*9*(10)**(-6) #Pixel x 9um x 10E-6= meter\n",
    "\n",
    "# ERROR PROPAGATION TO DIAMETER\n",
    "var_D = sigma_xf_meter**2 + sigma_xi_meter**2\n",
    "sigma_D_meter = np.sqrt(var_D)\n",
    "\n",
    "# ERROR PROPAGATION TO RADIUS\n",
    "sigma_R_meter = 0.5*sigma_D_meter\n",
    "\n",
    "# ERROR PROPAGATION TO ANGLE THETA\n",
    "f = 135E-3 # focal length \n",
    "var_theta = ((1/f)**2)*sigma_R_meter**2\n",
    "sigma_theta = np.sqrt(var_theta)\n",
    "\n",
    "# DESIGNATED ERROR IN B FIELD - WE DID NOT MAKE USE OF ERROR IN PLACEMENT\n",
    "sigmaB = 0.05E3 # Gauss \n",
    "varB = sigmaB**2\n",
    "\n",
    "# OVERVIEW OF VALUES \n",
    "print(f'Sigma x = {sigma_xf_meter} m')\n",
    "print(f'Sigma D = {sigma_D_meter} m')\n",
    "print(f'Sigma R = {sigma_R_meter} m')\n",
    "print(f'Sigma theta (unitless)= {sigma_theta}')\n",
    "print(f'Sigma B (Gaus)= {sigmaB}')"
   ]
  },
  {
   "cell_type": "code",
   "execution_count": 4,
   "metadata": {},
   "outputs": [],
   "source": [
    "# FUNCTION TO CALCULATE THE ERROR PROPAGATION OF DELTA E \n",
    "def SIGDeltaEPrime(thetasarray, sigma_theta): \n",
    "    '''Takes an array from the 180 deg peaks \n",
    "        3 thetas per set gives 1 Delta E's \n",
    "        Returns an arry of sigma delta E's\n",
    "        Ebar = 3.638E-12 erg '''\n",
    "    if len(thetasarray) % 2 ==0:\n",
    "        vardeltaEs = []\n",
    "        E = 3.638E-12\n",
    "\n",
    "        for i in range( 0,len(thetasarray), 2):\n",
    "\n",
    "            t1 = ((E*thetasarray[i])**2)*sigma_theta**2\n",
    "            t2 = ((E*thetasarray[i+1])**2)*sigma_theta**2\n",
    "            VardelE1 = t1 + t2\n",
    "            vardeltaEs.append(VardelE1)\n",
    "\n",
    "        #Variance \n",
    "        vardeltaE = np.array(vardeltaEs)\n",
    "        sigdeltaE = np.sqrt(vardeltaE)\n",
    "    else: \n",
    "        print('This array does not have the correct dimension')\n",
    "    \n",
    "    return sigdeltaE"
   ]
  },
  {
   "cell_type": "code",
   "execution_count": 9,
   "metadata": {},
   "outputs": [],
   "source": [
    "# Processing for Run3-180\n",
    "#pull\n",
    "Run3thetas180 = np.loadtxt('Run3Thetas180.txt', delimiter=',')\n",
    "\n",
    "# run\n",
    "Run3sigmaE180 = SIGDeltaEPrime(Run3thetas180, sigma_theta)\n",
    "np.savetxt(\"Run3Eerr180.txt\", Run3sigmaE180, delimiter =\", \")\n"
   ]
  },
  {
   "cell_type": "code",
   "execution_count": 8,
   "metadata": {},
   "outputs": [],
   "source": [
    "# Processing for Run3-90\n",
    "#pull\n",
    "Run3thetas90 = np.loadtxt('Run3Thetas90.txt', delimiter=',')\n",
    "\n",
    "#run\n",
    "Run3sigmaE90 = SIGDeltaEPrime(Run3thetas90, sigma_theta)\n",
    "np.savetxt(\"Run3Eerr90.txt\", Run3sigmaE90, delimiter =\", \")\n"
   ]
  }
 ],
 "metadata": {
  "interpreter": {
   "hash": "15236136143f690ab629bc2239af74481c62e7c87c1783d150f8875ecab5fde5"
  },
  "kernelspec": {
   "display_name": "Python 3.9.0 ('.venv': poetry)",
   "language": "python",
   "name": "python3"
  },
  "language_info": {
   "codemirror_mode": {
    "name": "ipython",
    "version": 3
   },
   "file_extension": ".py",
   "mimetype": "text/x-python",
   "name": "python",
   "nbconvert_exporter": "python",
   "pygments_lexer": "ipython3",
   "version": "3.9.0"
  },
  "orig_nbformat": 4
 },
 "nbformat": 4,
 "nbformat_minor": 2
}
